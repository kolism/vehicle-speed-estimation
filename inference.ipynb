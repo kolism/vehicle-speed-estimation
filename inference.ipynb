{
 "cells": [
  {
   "cell_type": "code",
   "execution_count": null,
   "metadata": {},
   "outputs": [],
   "source": [
    "import torch\n",
    "from efficientnet_pytorch import EfficientNet\n",
    "from PIL import Image, ImageDraw, ImageFont\n",
    "import numpy as np\n",
    "from pathlib import Path"
   ]
  },
  {
   "cell_type": "code",
   "execution_count": null,
   "metadata": {},
   "outputs": [],
   "source": [
    "# you can find a pretrained model at model/b3.pth\n",
    "MODEL_F = 'C:/Users/Cana/Documents/GitHub/pyslam/outputPITCH.pth'\n",
    "# directory with the numpy optical flow images you want to use for inference\n",
    "OF_NPY_DIR = 'C:/Users/Cana/Documents/GitHub/pyslam/outFlow0'\n",
    "OP_DIR='C:/Users/Cana/Documents/GitHub/pyslam/predictsPITCH'"
   ]
  },
  {
   "cell_type": "code",
   "execution_count": null,
   "metadata": {},
   "outputs": [],
   "source": [
    "# check if cuda is available\n",
    "device = 'cuda' if torch.cuda.is_available() else 'cpu'"
   ]
  },
  {
   "cell_type": "markdown",
   "metadata": {},
   "source": [
    "## Load Model"
   ]
  },
  {
   "cell_type": "code",
   "execution_count": null,
   "metadata": {},
   "outputs": [],
   "source": [
    "V = 0     # what version of efficientnet did you use\n",
    "IN_C = 2  # number of input channels\n",
    "NUM_C = 1 # number of classes to predict"
   ]
  },
  {
   "cell_type": "code",
   "execution_count": null,
   "metadata": {},
   "outputs": [],
   "source": [
    "model = EfficientNet.from_pretrained(f'efficientnet-b{V}', in_channels=IN_C, num_classes=NUM_C)\n",
    "state = torch.load(MODEL_F)\n",
    "model.load_state_dict(state.state_dict())\n",
    "#model.load_state_dict(state)\n",
    "model.to(device);"
   ]
  },
  {
   "cell_type": "code",
   "execution_count": null,
   "metadata": {},
   "outputs": [],
   "source": [
    "def inference(of_f):\n",
    "    of = np.load(of_f)\n",
    "    i = torch.from_numpy(of).to(device)\n",
    "    pred = model(i)\n",
    "    del i\n",
    "    torch.cuda.empty_cache()\n",
    "    return pred"
   ]
  },
  {
   "cell_type": "markdown",
   "metadata": {},
   "source": []
  },
  {
   "cell_type": "code",
   "execution_count": null,
   "metadata": {},
   "outputs": [],
   "source": [
    "# loop over all files in directory and predict\n",
    "images = list(Path(OF_NPY_DIR).glob('*.npy'))\n",
    "\n",
    "guesses = np.empty((1200))\n",
    "#print(\"images\",images)\n",
    "useLbl = 0\n",
    "for i in range(1,len(images)):\n",
    "    useI = i % 1200\n",
    "    print(\"i\" + str(i),len(images)-1)\n",
    "    if (useI == 0 or (useLbl == 4 and i == len(images)-1)) and i!=0: \n",
    "        \n",
    "        np.savetxt(f\"{OP_DIR}/{useLbl}.txt\",guesses)\n",
    "        print(\"SAVING TO \" + str(useLbl))\n",
    "        \n",
    "        guesses = np.empty((1200))\n",
    "        useLbl = useLbl + 1\n",
    "    \n",
    "    f = Path(f'{Path(OF_NPY_DIR)}/{i}.npy')\n",
    "    \n",
    "    y_hat = inference(f).item()\n",
    "    guesses[useI] = y_hat\n",
    "    print(f'{f.name}-{useLbl}: {round(y_hat, 15)}')"
   ]
  }
 ],
 "metadata": {
  "interpreter": {
   "hash": "e5d09d59fff3afbd6512f5df5a4d79ce0c9bc0993d966cbaf304a501e5e77b84"
  },
  "kernelspec": {
   "display_name": "Python 3.9.0 64-bit ('python39': conda)",
   "name": "python3"
  },
  "language_info": {
   "codemirror_mode": {
    "name": "ipython",
    "version": 3
   },
   "file_extension": ".py",
   "mimetype": "text/x-python",
   "name": "python",
   "nbconvert_exporter": "python",
   "pygments_lexer": "ipython3",
   "version": "3.9.0"
  }
 },
 "nbformat": 4,
 "nbformat_minor": 4
}
